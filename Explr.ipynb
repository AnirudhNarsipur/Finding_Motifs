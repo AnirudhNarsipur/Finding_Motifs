{
 "cells": [
  {
   "cell_type": "code",
   "execution_count": 2,
   "id": "needed-retro",
   "metadata": {},
   "outputs": [],
   "source": [
    "import pandas as pd\n",
    "import random\n",
    "import os\n",
    "import numpy as np\n",
    "from project import *\n",
    "import seqlogo\n",
    "import timeit\n",
    "from collections import Counter"
   ]
  },
  {
   "cell_type": "code",
   "execution_count": 3,
   "id": "acquired-occurrence",
   "metadata": {},
   "outputs": [],
   "source": [
    "# This was used to perform some minor cleaning on data from the original data from the paper\n",
    "#df = pd.read_excel(\"motif_data.xlsx\" ,engine='openpyxl',header=2,usecols=range(0,9))\n",
    "# df.to_csv(\"motif_clean.csv\",index=False)"
   ]
  },
  {
   "cell_type": "code",
   "execution_count": 4,
   "id": "medieval-penny",
   "metadata": {},
   "outputs": [],
   "source": [
    "#Read In Data\n",
    "df = pd.read_csv(\"motif_clean.csv\",index_col=False)\n",
    "#Rename column to shorter name\n",
    "df.rename(columns={'DNAseq (+/- 50nts from peak center)':'Seq'}, inplace=True)"
   ]
  },
  {
   "cell_type": "code",
   "execution_count": 5,
   "id": "boring-syria",
   "metadata": {},
   "outputs": [
    {
     "data": {
      "text/html": [
       "<div>\n",
       "<style scoped>\n",
       "    .dataframe tbody tr th:only-of-type {\n",
       "        vertical-align: middle;\n",
       "    }\n",
       "\n",
       "    .dataframe tbody tr th {\n",
       "        vertical-align: top;\n",
       "    }\n",
       "\n",
       "    .dataframe thead th {\n",
       "        text-align: right;\n",
       "    }\n",
       "</style>\n",
       "<table border=\"1\" class=\"dataframe\">\n",
       "  <thead>\n",
       "    <tr style=\"text-align: right;\">\n",
       "      <th></th>\n",
       "      <th>Regulator</th>\n",
       "      <th>Gene</th>\n",
       "      <th>p-Value</th>\n",
       "      <th>Score</th>\n",
       "      <th>VPM</th>\n",
       "      <th>Peak Start (Fstart)</th>\n",
       "      <th>Peak Stop (Rstop)</th>\n",
       "      <th>Peak Center (Ccenter)</th>\n",
       "      <th>Seq</th>\n",
       "    </tr>\n",
       "  </thead>\n",
       "  <tbody>\n",
       "    <tr>\n",
       "      <th>0</th>\n",
       "      <td>Rv0020c</td>\n",
       "      <td>Rv0020c</td>\n",
       "      <td>0.008387</td>\n",
       "      <td>0.708045</td>\n",
       "      <td>747</td>\n",
       "      <td>24834</td>\n",
       "      <td>25442</td>\n",
       "      <td>25262.0</td>\n",
       "      <td>CGACTGGATGCCGTCGGCCGCCTCGCGGCGCAGCAGGGCTTCGACC...</td>\n",
       "    </tr>\n",
       "    <tr>\n",
       "      <th>1</th>\n",
       "      <td>Rv0022c</td>\n",
       "      <td>MT0031</td>\n",
       "      <td>0.000000</td>\n",
       "      <td>0.938136</td>\n",
       "      <td>371</td>\n",
       "      <td>31853</td>\n",
       "      <td>32123</td>\n",
       "      <td>31964.0</td>\n",
       "      <td>TTCTCGCGCTCGAGTGAGCAGAGCCCGCACCTCGTCGAGTTGCTGC...</td>\n",
       "    </tr>\n",
       "    <tr>\n",
       "      <th>2</th>\n",
       "      <td>Rv0022c</td>\n",
       "      <td>MT0124</td>\n",
       "      <td>0.006907</td>\n",
       "      <td>0.747817</td>\n",
       "      <td>42</td>\n",
       "      <td>139867</td>\n",
       "      <td>140092</td>\n",
       "      <td>139961.0</td>\n",
       "      <td>AATGACGCACGCTGATCGGGCTTCCTGCAGGAGAAGAACATGACCA...</td>\n",
       "    </tr>\n",
       "    <tr>\n",
       "      <th>3</th>\n",
       "      <td>Rv0022c</td>\n",
       "      <td>MT0407.1</td>\n",
       "      <td>0.002960</td>\n",
       "      <td>0.837341</td>\n",
       "      <td>42</td>\n",
       "      <td>476142</td>\n",
       "      <td>476370</td>\n",
       "      <td>476251.0</td>\n",
       "      <td>CCGGTAGGCGCCTGCCCAAAACACGGGTATTGGGTAAAGGCACGGG...</td>\n",
       "    </tr>\n",
       "    <tr>\n",
       "      <th>4</th>\n",
       "      <td>Rv0022c</td>\n",
       "      <td>MT1759</td>\n",
       "      <td>0.008387</td>\n",
       "      <td>0.710485</td>\n",
       "      <td>22</td>\n",
       "      <td>1946282</td>\n",
       "      <td>1946498</td>\n",
       "      <td>1946420.0</td>\n",
       "      <td>CGCGTGGTTCAACGGCACTGAGGATCGCAAATGACAGAAGCGTTGT...</td>\n",
       "    </tr>\n",
       "  </tbody>\n",
       "</table>\n",
       "</div>"
      ],
      "text/plain": [
       "  Regulator      Gene   p-Value     Score  VPM  Peak Start (Fstart)  \\\n",
       "0   Rv0020c   Rv0020c  0.008387  0.708045  747                24834   \n",
       "1   Rv0022c    MT0031  0.000000  0.938136  371                31853   \n",
       "2   Rv0022c    MT0124  0.006907  0.747817   42               139867   \n",
       "3   Rv0022c  MT0407.1  0.002960  0.837341   42               476142   \n",
       "4   Rv0022c    MT1759  0.008387  0.710485   22              1946282   \n",
       "\n",
       "   Peak Stop (Rstop)  Peak Center (Ccenter)  \\\n",
       "0              25442                25262.0   \n",
       "1              32123                31964.0   \n",
       "2             140092               139961.0   \n",
       "3             476370               476251.0   \n",
       "4            1946498              1946420.0   \n",
       "\n",
       "                                                 Seq  \n",
       "0  CGACTGGATGCCGTCGGCCGCCTCGCGGCGCAGCAGGGCTTCGACC...  \n",
       "1  TTCTCGCGCTCGAGTGAGCAGAGCCCGCACCTCGTCGAGTTGCTGC...  \n",
       "2  AATGACGCACGCTGATCGGGCTTCCTGCAGGAGAAGAACATGACCA...  \n",
       "3  CCGGTAGGCGCCTGCCCAAAACACGGGTATTGGGTAAAGGCACGGG...  \n",
       "4  CGCGTGGTTCAACGGCACTGAGGATCGCAAATGACAGAAGCGTTGT...  "
      ]
     },
     "execution_count": 5,
     "metadata": {},
     "output_type": "execute_result"
    }
   ],
   "source": [
    "#What does the data look like?\n",
    "df.head()"
   ]
  },
  {
   "cell_type": "code",
   "execution_count": 6,
   "id": "graphic-venice",
   "metadata": {},
   "outputs": [],
   "source": [
    "cleanSeqs = clean_strings(df[\"Seq\"].tolist())\n",
    "zero_order_freq = zero_order_freq(cleanSeqs)\n",
    "first_order_freq = first_order_freq(cleanSeqs)"
   ]
  },
  {
   "cell_type": "code",
   "execution_count": 10,
   "id": "nervous-brand",
   "metadata": {},
   "outputs": [],
   "source": [
    "def run_gibbs(seqs,k=9,back=None):\n",
    "    return GibbsSampler(seqs,k=k,numSeq=len(seqs),seqLen=len(seqs[0]),itr=3000,background=back)"
   ]
  },
  {
   "cell_type": "code",
   "execution_count": null,
   "id": "wired-greene",
   "metadata": {},
   "outputs": [],
   "source": [
    "tst = list(list(df.groupby(['Regulator'])[\"Seq\"])[2][1])\n",
    "import time\n",
    "start_time = time.time()\n",
    "ans = GibbsSampler(tst,k=9,numSeq=len(tst),seqLen=100,itr=5000)\n",
    "print(\"--- %s seconds ---\" % (time.time() - start_time))\n",
    "ppm = seqlogo.Ppm(ans.T)\n",
    "t = seqlogo.seqlogo(ppm, ic_scale = False, format = 'png', size = 'medium')\n",
    "ppm.ic"
   ]
  },
  {
   "cell_type": "code",
   "execution_count": 8,
   "id": "processed-jones",
   "metadata": {},
   "outputs": [],
   "source": [
    "reg_groups = df.groupby(\"Regulator\")[\"Seq\"]\n",
    "regulators = [k for k,v in reg_groups if len(v) > 50]"
   ]
  },
  {
   "cell_type": "code",
   "execution_count": 12,
   "id": "prescription-football",
   "metadata": {},
   "outputs": [],
   "source": [
    "x = clean_strings(reg_groups.get_group(\"Rv0022c\").tolist())"
   ]
  },
  {
   "cell_type": "code",
   "execution_count": 19,
   "id": "embedded-field",
   "metadata": {},
   "outputs": [],
   "source": [
    "t = run_gibbs(x,back=fs)"
   ]
  },
  {
   "cell_type": "code",
   "execution_count": 28,
   "id": "defensive-background",
   "metadata": {},
   "outputs": [
    {
     "data": {
      "text/plain": [
       "1.0"
      ]
     },
     "execution_count": 28,
     "metadata": {},
     "output_type": "execute_result"
    }
   ],
   "source": [
    "t[:,3].sum()"
   ]
  },
  {
   "cell_type": "code",
   "execution_count": 15,
   "id": "invisible-balloon",
   "metadata": {},
   "outputs": [],
   "source": [
    "zr = get_background(x,9,zero_order_freq,0)\n",
    "fs = get_background(x,9,first_order_freq,1)"
   ]
  },
  {
   "cell_type": "code",
   "execution_count": null,
   "id": "contemporary-soldier",
   "metadata": {},
   "outputs": [],
   "source": [
    "zr.shape"
   ]
  },
  {
   "cell_type": "code",
   "execution_count": 33,
   "id": "logical-frost",
   "metadata": {},
   "outputs": [],
   "source": [
    "def get_pwm():\n",
    "    reg_groups = df.groupby(\"Regulator\")[\"Seq\"]\n",
    "    regulators = [k for k,v in reg_groups if len(v) > 50]\n",
    "    print(\"Creating PWMs for \",str(len(regulators)),\" regulators with lengths greater than 50\")\n",
    "    dct = {}\n",
    "    for reg,n in zip(regulators,range(len(regulators))):\n",
    "        print(\"Creating for \",str(reg),\" ,number : \",str(n),\" num seq : \",len(reg_groups.get_group(reg)))\n",
    "        cleanseq = clean_strings(reg_groups.get_group(reg).tolist())\n",
    "        zr = get_background(cleanseq,9,zero_order_freq,0)\n",
    "        fs = get_background(cleanseq,9,first_order_freq,1)\n",
    "        dct[reg] = {\n",
    "            \"no_bg\" : run_gibbs(cleanseq,back=None),\n",
    "            \"zero_bg\" : run_gibbs(cleanseq,back=zr),\n",
    "            \"one_bg\" : run_gibbs(cleanseq,back=fs)\n",
    "        }\n",
    "    return dct"
   ]
  },
  {
   "cell_type": "code",
   "execution_count": null,
   "id": "passive-motion",
   "metadata": {},
   "outputs": [
    {
     "name": "stdout",
     "output_type": "stream",
     "text": [
      "Creating PWMs for  51  with lengths greater than 50\n",
      "Creating for  Rv0022c  ,number :  0  num seq :  218\n",
      "Creating for  Rv0023  ,number :  1  num seq :  347\n",
      "Creating for  Rv0047c  ,number :  2  num seq :  634\n",
      "Creating for  Rv0081  ,number :  3  num seq :  856\n",
      "Creating for  Rv0135c  ,number :  4  num seq :  439\n",
      "Creating for  Rv0273c  ,number :  5  num seq :  80\n",
      "Creating for  Rv0302  ,number :  6  num seq :  285\n",
      "Creating for  Rv0324  ,number :  7  num seq :  437\n"
     ]
    }
   ],
   "source": [
    "res = get_pwm()"
   ]
  },
  {
   "cell_type": "code",
   "execution_count": null,
   "id": "sudden-dallas",
   "metadata": {},
   "outputs": [],
   "source": []
  }
 ],
 "metadata": {
  "kernelspec": {
   "display_name": "Python 3",
   "language": "python",
   "name": "python3"
  },
  "language_info": {
   "codemirror_mode": {
    "name": "ipython",
    "version": 3
   },
   "file_extension": ".py",
   "mimetype": "text/x-python",
   "name": "python",
   "nbconvert_exporter": "python",
   "pygments_lexer": "ipython3",
   "version": "3.7.9"
  }
 },
 "nbformat": 4,
 "nbformat_minor": 5
}
